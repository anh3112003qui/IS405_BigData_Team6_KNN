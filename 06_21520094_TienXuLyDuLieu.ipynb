{
  "nbformat": 4,
  "nbformat_minor": 0,
  "metadata": {
    "colab": {
      "provenance": []
    },
    "kernelspec": {
      "name": "python3",
      "display_name": "Python 3"
    },
    "language_info": {
      "name": "python"
    }
  },
  "cells": [
    {
      "cell_type": "code",
      "execution_count": null,
      "metadata": {
        "id": "OFkRhxC2iFdK"
      },
      "outputs": [],
      "source": [
        "from pyspark.sql import SparkSession\n",
        "from pyspark.sql.functions import col, count, when, isnan, min, max, mean, stddev, row_number\n",
        "from pyspark.sql import functions as F\n",
        "from pyspark.sql.window import Window\n",
        "\n",
        "import numpy as np"
      ]
    },
    {
      "cell_type": "code",
      "source": [
        "spark = SparkSession.builder.appName(\"BigData Hotel\").getOrCreate()\n",
        "spark"
      ],
      "metadata": {
        "colab": {
          "base_uri": "https://localhost:8080/",
          "height": 222
        },
        "id": "nRq4Lf9rq8w0",
        "outputId": "af25fd10-db19-4618-ddbc-c74bf3c20bd7"
      },
      "execution_count": null,
      "outputs": [
        {
          "output_type": "execute_result",
          "data": {
            "text/plain": [
              "<pyspark.sql.session.SparkSession at 0x7eebf7574670>"
            ],
            "text/html": [
              "\n",
              "            <div>\n",
              "                <p><b>SparkSession - in-memory</b></p>\n",
              "                \n",
              "        <div>\n",
              "            <p><b>SparkContext</b></p>\n",
              "\n",
              "            <p><a href=\"http://22372b51fd40:4040\">Spark UI</a></p>\n",
              "\n",
              "            <dl>\n",
              "              <dt>Version</dt>\n",
              "                <dd><code>v3.5.3</code></dd>\n",
              "              <dt>Master</dt>\n",
              "                <dd><code>local[*]</code></dd>\n",
              "              <dt>AppName</dt>\n",
              "                <dd><code>BigData Hotel</code></dd>\n",
              "            </dl>\n",
              "        </div>\n",
              "        \n",
              "            </div>\n",
              "        "
            ]
          },
          "metadata": {},
          "execution_count": 2
        }
      ]
    },
    {
      "cell_type": "code",
      "source": [
        "# Đọc dữ liệu vào dataframe\n",
        "df = spark.read.csv('Hotel Reservations.csv', header=True, inferSchema=True)\n",
        "df.show()"
      ],
      "metadata": {
        "colab": {
          "base_uri": "https://localhost:8080/"
        },
        "id": "igMEFHz9rEgp",
        "outputId": "92dba160-56ef-4a62-fad4-1b06ce1f4a11"
      },
      "execution_count": null,
      "outputs": [
        {
          "output_type": "stream",
          "name": "stdout",
          "text": [
            "+----------+------------+--------------+--------------------+-----------------+-----------------+--------------------------+------------------+---------+------------+-------------+------------+-------------------+--------------+----------------------------+------------------------------------+------------------+----------------------+--------------+\n",
            "|Booking_ID|no_of_adults|no_of_children|no_of_weekend_nights|no_of_week_nights|type_of_meal_plan|required_car_parking_space|room_type_reserved|lead_time|arrival_year|arrival_month|arrival_date|market_segment_type|repeated_guest|no_of_previous_cancellations|no_of_previous_bookings_not_canceled|avg_price_per_room|no_of_special_requests|booking_status|\n",
            "+----------+------------+--------------+--------------------+-----------------+-----------------+--------------------------+------------------+---------+------------+-------------+------------+-------------------+--------------+----------------------------+------------------------------------+------------------+----------------------+--------------+\n",
            "|  INN00001|           2|             0|                   1|                2|      Meal Plan 1|                         0|       Room_Type 1|      224|        2017|           10|           2|            Offline|             0|                           0|                                   0|              65.0|                     0|  Not_Canceled|\n",
            "|  INN00002|           2|             0|                   2|                3|     Not Selected|                         0|       Room_Type 1|        5|        2018|           11|           6|             Online|             0|                           0|                                   0|            106.68|                     1|  Not_Canceled|\n",
            "|  INN00003|           1|             0|                   2|                1|      Meal Plan 1|                         0|       Room_Type 1|        1|        2018|            2|          28|             Online|             0|                           0|                                   0|              60.0|                     0|      Canceled|\n",
            "|  INN00004|           2|             0|                   0|                2|      Meal Plan 1|                         0|       Room_Type 1|      211|        2018|            5|          20|             Online|             0|                           0|                                   0|             100.0|                     0|      Canceled|\n",
            "|  INN00005|           2|             0|                   1|                1|     Not Selected|                         0|       Room_Type 1|       48|        2018|            4|          11|             Online|             0|                           0|                                   0|              94.5|                     0|      Canceled|\n",
            "|  INN00006|           2|             0|                   0|                2|      Meal Plan 2|                         0|       Room_Type 1|      346|        2018|            9|          13|             Online|             0|                           0|                                   0|             115.0|                     1|      Canceled|\n",
            "|  INN00007|           2|             0|                   1|                3|      Meal Plan 1|                         0|       Room_Type 1|       34|        2017|           10|          15|             Online|             0|                           0|                                   0|            107.55|                     1|  Not_Canceled|\n",
            "|  INN00008|           2|             0|                   1|                3|      Meal Plan 1|                         0|       Room_Type 4|       83|        2018|           12|          26|             Online|             0|                           0|                                   0|            105.61|                     1|  Not_Canceled|\n",
            "|  INN00009|           3|             0|                   0|                4|      Meal Plan 1|                         0|       Room_Type 1|      121|        2018|            7|           6|            Offline|             0|                           0|                                   0|              96.9|                     1|  Not_Canceled|\n",
            "|  INN00010|           2|             0|                   0|                5|      Meal Plan 1|                         0|       Room_Type 4|       44|        2018|           10|          18|             Online|             0|                           0|                                   0|            133.44|                     3|  Not_Canceled|\n",
            "|  INN00011|           1|             0|                   1|                0|     Not Selected|                         0|       Room_Type 1|        0|        2018|            9|          11|             Online|             0|                           0|                                   0|             85.03|                     0|  Not_Canceled|\n",
            "|  INN00012|           1|             0|                   2|                1|      Meal Plan 1|                         0|       Room_Type 4|       35|        2018|            4|          30|             Online|             0|                           0|                                   0|             140.4|                     1|  Not_Canceled|\n",
            "|  INN00013|           2|             0|                   2|                1|     Not Selected|                         0|       Room_Type 1|       30|        2018|           11|          26|             Online|             0|                           0|                                   0|              88.0|                     0|      Canceled|\n",
            "|  INN00014|           1|             0|                   2|                0|      Meal Plan 1|                         0|       Room_Type 1|       95|        2018|           11|          20|             Online|             0|                           0|                                   0|              90.0|                     2|      Canceled|\n",
            "|  INN00015|           2|             0|                   0|                2|      Meal Plan 1|                         0|       Room_Type 1|       47|        2017|           10|          20|             Online|             0|                           0|                                   0|              94.5|                     2|  Not_Canceled|\n",
            "|  INN00016|           2|             0|                   0|                2|      Meal Plan 2|                         0|       Room_Type 1|      256|        2018|            6|          15|             Online|             0|                           0|                                   0|             115.0|                     1|      Canceled|\n",
            "|  INN00017|           1|             0|                   1|                0|      Meal Plan 1|                         0|       Room_Type 1|        0|        2017|           10|           5|            Offline|             0|                           0|                                   0|              96.0|                     0|  Not_Canceled|\n",
            "|  INN00018|           2|             0|                   1|                3|     Not Selected|                         0|       Room_Type 1|        1|        2017|            8|          10|             Online|             0|                           0|                                   0|              96.0|                     1|  Not_Canceled|\n",
            "|  INN00019|           2|             0|                   2|                2|      Meal Plan 1|                         0|       Room_Type 1|       99|        2017|           10|          30|             Online|             0|                           0|                                   0|              65.0|                     0|      Canceled|\n",
            "|  INN00020|           2|             0|                   1|                0|      Meal Plan 1|                         0|       Room_Type 1|       12|        2017|           10|           4|            Offline|             0|                           0|                                   0|              72.0|                     0|  Not_Canceled|\n",
            "+----------+------------+--------------+--------------------+-----------------+-----------------+--------------------------+------------------+---------+------------+-------------+------------+-------------------+--------------+----------------------------+------------------------------------+------------------+----------------------+--------------+\n",
            "only showing top 20 rows\n",
            "\n"
          ]
        }
      ]
    },
    {
      "cell_type": "code",
      "source": [
        "print(\"\\nXem trước 5 dòng dữ liệu:\")\n",
        "df.show(5)"
      ],
      "metadata": {
        "id": "uvQ0qdmMwRjC",
        "outputId": "1ec2f0c4-3ad9-43f3-88a3-fbbdbb4f21e1",
        "colab": {
          "base_uri": "https://localhost:8080/"
        }
      },
      "execution_count": null,
      "outputs": [
        {
          "output_type": "stream",
          "name": "stdout",
          "text": [
            "\n",
            "Xem trước 5 dòng dữ liệu:\n",
            "+----------+------------+--------------+--------------------+-----------------+-----------------+--------------------------+------------------+---------+------------+-------------+------------+-------------------+--------------+----------------------------+------------------------------------+------------------+----------------------+--------------+\n",
            "|Booking_ID|no_of_adults|no_of_children|no_of_weekend_nights|no_of_week_nights|type_of_meal_plan|required_car_parking_space|room_type_reserved|lead_time|arrival_year|arrival_month|arrival_date|market_segment_type|repeated_guest|no_of_previous_cancellations|no_of_previous_bookings_not_canceled|avg_price_per_room|no_of_special_requests|booking_status|\n",
            "+----------+------------+--------------+--------------------+-----------------+-----------------+--------------------------+------------------+---------+------------+-------------+------------+-------------------+--------------+----------------------------+------------------------------------+------------------+----------------------+--------------+\n",
            "|  INN00001|           2|             0|                   1|                2|      Meal Plan 1|                         0|       Room_Type 1|      224|        2017|           10|           2|            Offline|             0|                           0|                                   0|              65.0|                     0|  Not_Canceled|\n",
            "|  INN00002|           2|             0|                   2|                3|     Not Selected|                         0|       Room_Type 1|        5|        2018|           11|           6|             Online|             0|                           0|                                   0|            106.68|                     1|  Not_Canceled|\n",
            "|  INN00003|           1|             0|                   2|                1|      Meal Plan 1|                         0|       Room_Type 1|        1|        2018|            2|          28|             Online|             0|                           0|                                   0|              60.0|                     0|      Canceled|\n",
            "|  INN00004|           2|             0|                   0|                2|      Meal Plan 1|                         0|       Room_Type 1|      211|        2018|            5|          20|             Online|             0|                           0|                                   0|             100.0|                     0|      Canceled|\n",
            "|  INN00005|           2|             0|                   1|                1|     Not Selected|                         0|       Room_Type 1|       48|        2018|            4|          11|             Online|             0|                           0|                                   0|              94.5|                     0|      Canceled|\n",
            "+----------+------------+--------------+--------------------+-----------------+-----------------+--------------------------+------------------+---------+------------+-------------+------------+-------------------+--------------+----------------------------+------------------------------------+------------------+----------------------+--------------+\n",
            "only showing top 5 rows\n",
            "\n"
          ]
        }
      ]
    },
    {
      "cell_type": "code",
      "source": [
        "# Xem thông tin dữ liệu dưới dạng cây\n",
        "df.printSchema()"
      ],
      "metadata": {
        "colab": {
          "base_uri": "https://localhost:8080/"
        },
        "id": "Q6HoMT_FrT4s",
        "outputId": "d04e5461-2655-4271-dc48-30812cfa8b0a"
      },
      "execution_count": null,
      "outputs": [
        {
          "output_type": "stream",
          "name": "stdout",
          "text": [
            "root\n",
            " |-- Booking_ID: string (nullable = true)\n",
            " |-- no_of_adults: integer (nullable = true)\n",
            " |-- no_of_children: integer (nullable = true)\n",
            " |-- no_of_weekend_nights: integer (nullable = true)\n",
            " |-- no_of_week_nights: integer (nullable = true)\n",
            " |-- type_of_meal_plan: string (nullable = true)\n",
            " |-- required_car_parking_space: integer (nullable = true)\n",
            " |-- room_type_reserved: string (nullable = true)\n",
            " |-- lead_time: integer (nullable = true)\n",
            " |-- arrival_year: integer (nullable = true)\n",
            " |-- arrival_month: integer (nullable = true)\n",
            " |-- arrival_date: integer (nullable = true)\n",
            " |-- market_segment_type: string (nullable = true)\n",
            " |-- repeated_guest: integer (nullable = true)\n",
            " |-- no_of_previous_cancellations: integer (nullable = true)\n",
            " |-- no_of_previous_bookings_not_canceled: integer (nullable = true)\n",
            " |-- avg_price_per_room: double (nullable = true)\n",
            " |-- no_of_special_requests: integer (nullable = true)\n",
            " |-- booking_status: string (nullable = true)\n",
            "\n"
          ]
        }
      ]
    },
    {
      "cell_type": "code",
      "source": [
        "# Có nhiều cột dư thừa trong tập dữ liệu nên bỏ chúng đi trước khi tiếp tục.\n",
        "df = df.drop('Booking_ID', 'arrival_year','arrival_month', 'arrival_date')\n",
        "df.printSchema()"
      ],
      "metadata": {
        "colab": {
          "base_uri": "https://localhost:8080/"
        },
        "id": "fA6KVgZ7_g2Z",
        "outputId": "c1fed7e1-adfb-4f20-d42b-2e941b049d63"
      },
      "execution_count": null,
      "outputs": [
        {
          "output_type": "stream",
          "name": "stdout",
          "text": [
            "root\n",
            " |-- no_of_adults: integer (nullable = true)\n",
            " |-- no_of_children: integer (nullable = true)\n",
            " |-- no_of_weekend_nights: integer (nullable = true)\n",
            " |-- no_of_week_nights: integer (nullable = true)\n",
            " |-- type_of_meal_plan: string (nullable = true)\n",
            " |-- required_car_parking_space: integer (nullable = true)\n",
            " |-- room_type_reserved: string (nullable = true)\n",
            " |-- lead_time: integer (nullable = true)\n",
            " |-- market_segment_type: string (nullable = true)\n",
            " |-- repeated_guest: integer (nullable = true)\n",
            " |-- no_of_previous_cancellations: integer (nullable = true)\n",
            " |-- no_of_previous_bookings_not_canceled: integer (nullable = true)\n",
            " |-- avg_price_per_room: double (nullable = true)\n",
            " |-- no_of_special_requests: integer (nullable = true)\n",
            " |-- booking_status: string (nullable = true)\n",
            "\n"
          ]
        }
      ]
    },
    {
      "cell_type": "code",
      "source": [
        "# Thực hiện Label Encoding cho các cột nhãn được chỉ định trong DataFrame, chuyển đổi giá trị chuỗi thành chỉ số.\n",
        "columns_to_check = [\"room_type_reserved\", \"type_of_meal_plan\", \"market_segment_type\", \"booking_status\"]\n",
        "\n",
        "# Kiểm tra và hiển thị giá trị duy nhất của từng cột\n",
        "for col_name in columns_to_check:\n",
        "    unique_values = df.select(col_name).distinct().orderBy(col_name)\n",
        "    print(f\"Unique values of {col_name}:\")\n",
        "    unique_values.show()\n",
        "\n",
        "# Thực hiện Label Encoding cho từng cột trong danh sách\n",
        "for col_name in columns_to_check:\n",
        "    # Định nghĩa cửa sổ để gán chỉ số cho các giá trị duy nhất\n",
        "    window_spec = Window.orderBy(col_name)\n",
        "\n",
        "    # Tạo DataFrame mới chứa các giá trị duy nhất và chỉ số tương ứng\n",
        "    unique_df = df.select(col_name).distinct() \\\n",
        "                  .withColumn(\"index\", row_number().over(window_spec) - 1)\n",
        "\n",
        "    # Kết hợp dữ liệu gốc với bảng mã hóa và ghi đè lên cột gốc\n",
        "    df = df.join(unique_df, on=col_name, how=\"left\") \\\n",
        "           .drop(col_name) \\\n",
        "           .withColumnRenamed(\"index\", col_name)\n",
        "\n",
        "# Hiển thị DataFrame đã được mã hóa\n",
        "df.show()"
      ],
      "metadata": {
        "colab": {
          "base_uri": "https://localhost:8080/"
        },
        "id": "WoS67Mf3Ebfa",
        "outputId": "18b0b187-a919-4683-8cf0-d3319fa0c484"
      },
      "execution_count": null,
      "outputs": [
        {
          "output_type": "stream",
          "name": "stdout",
          "text": [
            "Unique values of room_type_reserved:\n",
            "+------------------+\n",
            "|room_type_reserved|\n",
            "+------------------+\n",
            "|       Room_Type 1|\n",
            "|       Room_Type 2|\n",
            "|       Room_Type 3|\n",
            "|       Room_Type 4|\n",
            "|       Room_Type 5|\n",
            "|       Room_Type 6|\n",
            "|       Room_Type 7|\n",
            "+------------------+\n",
            "\n",
            "Unique values of type_of_meal_plan:\n",
            "+-----------------+\n",
            "|type_of_meal_plan|\n",
            "+-----------------+\n",
            "|      Meal Plan 1|\n",
            "|      Meal Plan 2|\n",
            "|      Meal Plan 3|\n",
            "|     Not Selected|\n",
            "+-----------------+\n",
            "\n",
            "Unique values of market_segment_type:\n",
            "+-------------------+\n",
            "|market_segment_type|\n",
            "+-------------------+\n",
            "|           Aviation|\n",
            "|      Complementary|\n",
            "|          Corporate|\n",
            "|            Offline|\n",
            "|             Online|\n",
            "+-------------------+\n",
            "\n",
            "Unique values of booking_status:\n",
            "+--------------+\n",
            "|booking_status|\n",
            "+--------------+\n",
            "|      Canceled|\n",
            "|  Not_Canceled|\n",
            "+--------------+\n",
            "\n",
            "+------------+--------------+--------------------+-----------------+--------------------------+---------+--------------+----------------------------+------------------------------------+------------------+----------------------+------------------+-----------------+-------------------+--------------+\n",
            "|no_of_adults|no_of_children|no_of_weekend_nights|no_of_week_nights|required_car_parking_space|lead_time|repeated_guest|no_of_previous_cancellations|no_of_previous_bookings_not_canceled|avg_price_per_room|no_of_special_requests|room_type_reserved|type_of_meal_plan|market_segment_type|booking_status|\n",
            "+------------+--------------+--------------------+-----------------+--------------------------+---------+--------------+----------------------------+------------------------------------+------------------+----------------------+------------------+-----------------+-------------------+--------------+\n",
            "|           2|             0|                   1|                2|                         0|      224|             0|                           0|                                   0|              65.0|                     0|                 0|                0|                  3|             1|\n",
            "|           2|             0|                   2|                3|                         0|        5|             0|                           0|                                   0|            106.68|                     1|                 0|                3|                  4|             1|\n",
            "|           1|             0|                   2|                1|                         0|        1|             0|                           0|                                   0|              60.0|                     0|                 0|                0|                  4|             0|\n",
            "|           2|             0|                   0|                2|                         0|      211|             0|                           0|                                   0|             100.0|                     0|                 0|                0|                  4|             0|\n",
            "|           2|             0|                   1|                1|                         0|       48|             0|                           0|                                   0|              94.5|                     0|                 0|                3|                  4|             0|\n",
            "|           2|             0|                   0|                2|                         0|      346|             0|                           0|                                   0|             115.0|                     1|                 0|                1|                  4|             0|\n",
            "|           2|             0|                   1|                3|                         0|       34|             0|                           0|                                   0|            107.55|                     1|                 0|                0|                  4|             1|\n",
            "|           2|             0|                   1|                3|                         0|       83|             0|                           0|                                   0|            105.61|                     1|                 3|                0|                  4|             1|\n",
            "|           3|             0|                   0|                4|                         0|      121|             0|                           0|                                   0|              96.9|                     1|                 0|                0|                  3|             1|\n",
            "|           2|             0|                   0|                5|                         0|       44|             0|                           0|                                   0|            133.44|                     3|                 3|                0|                  4|             1|\n",
            "|           1|             0|                   1|                0|                         0|        0|             0|                           0|                                   0|             85.03|                     0|                 0|                3|                  4|             1|\n",
            "|           1|             0|                   2|                1|                         0|       35|             0|                           0|                                   0|             140.4|                     1|                 3|                0|                  4|             1|\n",
            "|           2|             0|                   2|                1|                         0|       30|             0|                           0|                                   0|              88.0|                     0|                 0|                3|                  4|             0|\n",
            "|           1|             0|                   2|                0|                         0|       95|             0|                           0|                                   0|              90.0|                     2|                 0|                0|                  4|             0|\n",
            "|           2|             0|                   0|                2|                         0|       47|             0|                           0|                                   0|              94.5|                     2|                 0|                0|                  4|             1|\n",
            "|           2|             0|                   0|                2|                         0|      256|             0|                           0|                                   0|             115.0|                     1|                 0|                1|                  4|             0|\n",
            "|           1|             0|                   1|                0|                         0|        0|             0|                           0|                                   0|              96.0|                     0|                 0|                0|                  3|             1|\n",
            "|           2|             0|                   1|                3|                         0|        1|             0|                           0|                                   0|              96.0|                     1|                 0|                3|                  4|             1|\n",
            "|           2|             0|                   2|                2|                         0|       99|             0|                           0|                                   0|              65.0|                     0|                 0|                0|                  4|             0|\n",
            "|           2|             0|                   1|                0|                         0|       12|             0|                           0|                                   0|              72.0|                     0|                 0|                0|                  3|             1|\n",
            "+------------+--------------+--------------------+-----------------+--------------------------+---------+--------------+----------------------------+------------------------------------+------------------+----------------------+------------------+-----------------+-------------------+--------------+\n",
            "only showing top 20 rows\n",
            "\n"
          ]
        }
      ]
    },
    {
      "cell_type": "code",
      "source": [
        "# Đếm số giá trị null hoặc NaN trên từng cột\n",
        "null_counts = df.select(\n",
        "    [count(when(col(c).isNull() | isnan(c), c)).alias(c) for c in df.columns]\n",
        ")\n",
        "null_counts.show()"
      ],
      "metadata": {
        "colab": {
          "base_uri": "https://localhost:8080/"
        },
        "id": "W4prOerZKPy2",
        "outputId": "4039ec81-d7ca-4f5b-e944-606f2648faa5"
      },
      "execution_count": null,
      "outputs": [
        {
          "output_type": "stream",
          "name": "stdout",
          "text": [
            "+------------+--------------+--------------------+-----------------+--------------------------+---------+--------------+----------------------------+------------------------------------+------------------+----------------------+------------------+-----------------+-------------------+--------------+\n",
            "|no_of_adults|no_of_children|no_of_weekend_nights|no_of_week_nights|required_car_parking_space|lead_time|repeated_guest|no_of_previous_cancellations|no_of_previous_bookings_not_canceled|avg_price_per_room|no_of_special_requests|room_type_reserved|type_of_meal_plan|market_segment_type|booking_status|\n",
            "+------------+--------------+--------------------+-----------------+--------------------------+---------+--------------+----------------------------+------------------------------------+------------------+----------------------+------------------+-----------------+-------------------+--------------+\n",
            "|           0|             0|                   0|                0|                         0|        0|             0|                           0|                                   0|                 0|                     0|                 0|                0|                  0|             0|\n",
            "+------------+--------------+--------------------+-----------------+--------------------------+---------+--------------+----------------------------+------------------------------------+------------------+----------------------+------------------+-----------------+-------------------+--------------+\n",
            "\n"
          ]
        }
      ]
    },
    {
      "cell_type": "code",
      "source": [
        "# Phát hiện ngoại lệ\n",
        "# Các cột định lượng\n",
        "quant_columns = [\n",
        "    'no_of_adults', 'no_of_children', 'no_of_weekend_nights',\n",
        "    'no_of_week_nights', 'lead_time', 'no_of_previous_cancellations',\n",
        "    'no_of_previous_bookings_not_canceled', 'avg_price_per_room', 'no_of_special_requests'\n",
        "]\n",
        "\n",
        "# Ngưỡng Z-score\n",
        "z_score_threshold = 3\n",
        "\n",
        "# Tính trung bình và độ lệch chuẩn\n",
        "def calculate_mean_std(df, column):\n",
        "    mean_val = df.agg(F.mean(column)).first()[0]\n",
        "    stddev_val = df.agg(F.stddev(column)).first()[0]\n",
        "    return mean_val, stddev_val\n",
        "\n",
        "mean_std = {col: calculate_mean_std(df, col) for col in quant_columns}\n",
        "\n",
        "# Đếm số lượng và tỉ lệ giá trị ngoại lệ trước xử lý\n",
        "outliers_stats_before = {}\n",
        "for col in quant_columns:\n",
        "    mean, stddev = mean_std[col]\n",
        "    outliers = df.filter((F.abs(F.col(col) - mean) / stddev > z_score_threshold))\n",
        "    count_outliers = outliers.count()\n",
        "    percentage = (count_outliers / df.count()) * 100\n",
        "    outliers_stats_before[col] = (count_outliers, percentage)\n",
        "\n",
        "print(\"Số lượng và tỉ lệ ngoại lệ trước khi xử lý:\")\n",
        "for col, (count, perc) in outliers_stats_before.items():\n",
        "    print(f\"{col}: Số lượng = {count}, Tỉ lệ = {perc:.2f}%\")"
      ],
      "metadata": {
        "colab": {
          "base_uri": "https://localhost:8080/"
        },
        "id": "xLEFRl4A60wk",
        "outputId": "25b45e08-2a54-443b-df1d-c5ef9504e0e0"
      },
      "execution_count": null,
      "outputs": [
        {
          "output_type": "stream",
          "name": "stdout",
          "text": [
            "Số lượng và tỉ lệ ngoại lệ trước khi xử lý:\n",
            "no_of_adults: Số lượng = 155, Tỉ lệ = 0.43%\n",
            "no_of_children: Số lượng = 1080, Tỉ lệ = 2.98%\n",
            "no_of_weekend_nights: Số lượng = 184, Tỉ lệ = 0.51%\n",
            "no_of_week_nights: Số lượng = 324, Tỉ lệ = 0.89%\n",
            "lead_time: Số lượng = 376, Tỉ lệ = 1.04%\n",
            "no_of_previous_cancellations: Số lượng = 140, Tỉ lệ = 0.39%\n",
            "no_of_previous_bookings_not_canceled: Số lượng = 267, Tỉ lệ = 0.74%\n",
            "avg_price_per_room: Số lượng = 357, Tỉ lệ = 0.98%\n",
            "no_of_special_requests: Số lượng = 761, Tỉ lệ = 2.10%\n"
          ]
        }
      ]
    },
    {
      "cell_type": "code",
      "source": [
        "# Kiểm tra và xóa các dòng có no_of_adults và no_of_children đồng thời bằng 0\n",
        "condition_adults_children = (F.col(\"no_of_adults\") == 0) & (F.col(\"no_of_children\") == 0)\n",
        "invalid_adults_children_count = df.filter(condition_adults_children).count()\n",
        "print(f\"Số dòng có no_of_adults và no_of_children đồng thời bằng 0: {invalid_adults_children_count}\")\n",
        "\n",
        "if invalid_adults_children_count > 0:\n",
        "    df = df.filter(~condition_adults_children)"
      ],
      "metadata": {
        "colab": {
          "base_uri": "https://localhost:8080/"
        },
        "id": "XFVfewviPTq5",
        "outputId": "d111467b-7b3c-40e5-c015-558502367d7e"
      },
      "execution_count": null,
      "outputs": [
        {
          "output_type": "stream",
          "name": "stdout",
          "text": [
            "Số dòng có no_of_adults và no_of_children đồng thời bằng 0: 0\n"
          ]
        }
      ]
    },
    {
      "cell_type": "code",
      "source": [
        "df.printSchema()"
      ],
      "metadata": {
        "colab": {
          "base_uri": "https://localhost:8080/"
        },
        "id": "KmhE_rtjIf_B",
        "outputId": "773d186c-6ed7-4857-82b7-4f9481481c43"
      },
      "execution_count": null,
      "outputs": [
        {
          "output_type": "stream",
          "name": "stdout",
          "text": [
            "root\n",
            " |-- no_of_adults: integer (nullable = true)\n",
            " |-- no_of_children: integer (nullable = true)\n",
            " |-- no_of_weekend_nights: integer (nullable = true)\n",
            " |-- no_of_week_nights: integer (nullable = true)\n",
            " |-- required_car_parking_space: integer (nullable = true)\n",
            " |-- lead_time: integer (nullable = true)\n",
            " |-- repeated_guest: integer (nullable = true)\n",
            " |-- no_of_previous_cancellations: integer (nullable = true)\n",
            " |-- no_of_previous_bookings_not_canceled: integer (nullable = true)\n",
            " |-- avg_price_per_room: double (nullable = true)\n",
            " |-- no_of_special_requests: integer (nullable = true)\n",
            " |-- room_type_reserved: integer (nullable = true)\n",
            " |-- type_of_meal_plan: integer (nullable = true)\n",
            " |-- market_segment_type: integer (nullable = true)\n",
            " |-- booking_status: integer (nullable = true)\n",
            "\n"
          ]
        }
      ]
    },
    {
      "cell_type": "code",
      "source": [
        "df1 = df.select(quant_columns).describe()\n",
        "df1.show()"
      ],
      "metadata": {
        "colab": {
          "base_uri": "https://localhost:8080/"
        },
        "id": "f4e9YozrXucB",
        "outputId": "1a07ff6c-eeb0-4368-89ed-6dc07310d857"
      },
      "execution_count": null,
      "outputs": [
        {
          "output_type": "stream",
          "name": "stdout",
          "text": [
            "+-------+------------------+-------------------+--------------------+------------------+-----------------+----------------------------+------------------------------------+------------------+----------------------+\n",
            "|summary|      no_of_adults|     no_of_children|no_of_weekend_nights| no_of_week_nights|        lead_time|no_of_previous_cancellations|no_of_previous_bookings_not_canceled|avg_price_per_room|no_of_special_requests|\n",
            "+-------+------------------+-------------------+--------------------+------------------+-----------------+----------------------------+------------------------------------+------------------+----------------------+\n",
            "|  count|             36275|              36275|               36275|             36275|            36275|                       36275|                               36275|             36275|                 36275|\n",
            "|   mean|1.8449620951068229|0.10527911784975878|   0.810723638869745|2.2043004824259134|85.23255685733976|        0.023349414197105445|                 0.15341144038594073| 103.4235390764958|    0.6196554100620262|\n",
            "| stddev|0.5187148379012908| 0.4026480635892787|   0.870643614759999|1.4109048548240162|85.93081669923292|         0.36833144791978645|                  1.7541707114426341| 35.08942403637024|    0.7862358983956053|\n",
            "|    min|                 0|                  0|                   0|                 0|                0|                           0|                                   0|               0.0|                     0|\n",
            "|    max|                 4|                 10|                   7|                17|              443|                          13|                                  58|             540.0|                     5|\n",
            "+-------+------------------+-------------------+--------------------+------------------+-----------------+----------------------------+------------------------------------+------------------+----------------------+\n",
            "\n"
          ]
        }
      ]
    },
    {
      "cell_type": "code",
      "source": [
        "nor_columns = ['no_of_adults', 'no_of_children', 'no_of_weekend_nights',\n",
        "    'no_of_week_nights', 'lead_time', 'no_of_previous_cancellations',\n",
        "    'no_of_previous_bookings_not_canceled', 'avg_price_per_room', 'no_of_special_requests', 'room_type_reserved', 'type_of_meal_plan', 'market_segment_type']\n",
        "def normalize_min_max(df, columns):\n",
        "    for col in columns:\n",
        "        # Tính giá trị min và max của từng cột\n",
        "        min_val = df.agg(F.min(col)).first()[0]\n",
        "        max_val = df.agg(F.max(col)).first()[0]\n",
        "\n",
        "        # Kiểm tra tránh chia cho 0\n",
        "        if max_val != min_val:\n",
        "            # Chuẩn hóa giá trị của cột\n",
        "            df = df.withColumn(\n",
        "                col,\n",
        "                (F.col(col) - min_val) / (max_val - min_val)\n",
        "            )\n",
        "        else:\n",
        "            # Nếu max_val = min_val, gán tất cả giá trị của cột thành 0\n",
        "            df = df.withColumn(col, F.lit(0))\n",
        "\n",
        "    return df\n",
        "\n",
        "# Chuẩn hóa các cột định lượng\n",
        "df = normalize_min_max(df, nor_columns)\n",
        "\n",
        "# Hiển thị một số dòng để kiểm tra kết quả\n",
        "df.show()"
      ],
      "metadata": {
        "colab": {
          "base_uri": "https://localhost:8080/"
        },
        "id": "CX8JXABa72aX",
        "outputId": "12e41469-527f-4bb4-de02-62866b93be58"
      },
      "execution_count": null,
      "outputs": [
        {
          "output_type": "stream",
          "name": "stdout",
          "text": [
            "+------------+--------------+--------------------+--------------------+--------------------------+--------------------+--------------+----------------------------+------------------------------------+-------------------+----------------------+------------------+------------------+-------------------+--------------+\n",
            "|no_of_adults|no_of_children|no_of_weekend_nights|   no_of_week_nights|required_car_parking_space|           lead_time|repeated_guest|no_of_previous_cancellations|no_of_previous_bookings_not_canceled| avg_price_per_room|no_of_special_requests|room_type_reserved| type_of_meal_plan|market_segment_type|booking_status|\n",
            "+------------+--------------+--------------------+--------------------+--------------------------+--------------------+--------------+----------------------------+------------------------------------+-------------------+----------------------+------------------+------------------+-------------------+--------------+\n",
            "|         0.5|           0.0| 0.14285714285714285| 0.11764705882352941|                         0|  0.5056433408577878|             0|                         0.0|                                 0.0|0.12037037037037036|                   0.0|               0.0|               0.0|               0.75|             1|\n",
            "|         0.5|           0.0|  0.2857142857142857| 0.17647058823529413|                         0|0.011286681715575621|             0|                         0.0|                                 0.0|0.19755555555555557|                   0.2|               0.0|               1.0|                1.0|             1|\n",
            "|        0.25|           0.0|  0.2857142857142857|0.058823529411764705|                         0|0.002257336343115124|             0|                         0.0|                                 0.0| 0.1111111111111111|                   0.0|               0.0|               0.0|                1.0|             0|\n",
            "|         0.5|           0.0|                 0.0| 0.11764705882352941|                         0|  0.4762979683972912|             0|                         0.0|                                 0.0|0.18518518518518517|                   0.0|               0.0|               0.0|                1.0|             0|\n",
            "|         0.5|           0.0| 0.14285714285714285|0.058823529411764705|                         0| 0.10835214446952596|             0|                         0.0|                                 0.0|              0.175|                   0.0|               0.0|               1.0|                1.0|             0|\n",
            "|         0.5|           0.0|                 0.0| 0.11764705882352941|                         0|   0.781038374717833|             0|                         0.0|                                 0.0|0.21296296296296297|                   0.2|               0.0|0.3333333333333333|                1.0|             0|\n",
            "|         0.5|           0.0| 0.14285714285714285| 0.17647058823529413|                         0| 0.07674943566591422|             0|                         0.0|                                 0.0|0.19916666666666666|                   0.2|               0.0|               0.0|                1.0|             1|\n",
            "|         0.5|           0.0| 0.14285714285714285| 0.17647058823529413|                         0|  0.1873589164785553|             0|                         0.0|                                 0.0|0.19557407407407407|                   0.2|               0.5|               0.0|                1.0|             1|\n",
            "|        0.75|           0.0|                 0.0| 0.23529411764705882|                         0|    0.27313769751693|             0|                         0.0|                                 0.0|0.17944444444444446|                   0.2|               0.0|               0.0|               0.75|             1|\n",
            "|         0.5|           0.0|                 0.0| 0.29411764705882354|                         0| 0.09932279909706546|             0|                         0.0|                                 0.0|0.24711111111111111|                   0.6|               0.5|               0.0|                1.0|             1|\n",
            "|        0.25|           0.0| 0.14285714285714285|                 0.0|                         0|                 0.0|             0|                         0.0|                                 0.0|0.15746296296296297|                   0.0|               0.0|               1.0|                1.0|             1|\n",
            "|        0.25|           0.0|  0.2857142857142857|0.058823529411764705|                         0| 0.07900677200902935|             0|                         0.0|                                 0.0|               0.26|                   0.2|               0.5|               0.0|                1.0|             1|\n",
            "|         0.5|           0.0|  0.2857142857142857|0.058823529411764705|                         0| 0.06772009029345373|             0|                         0.0|                                 0.0|0.16296296296296298|                   0.0|               0.0|               1.0|                1.0|             0|\n",
            "|        0.25|           0.0|  0.2857142857142857|                 0.0|                         0|  0.2144469525959368|             0|                         0.0|                                 0.0|0.16666666666666666|                   0.4|               0.0|               0.0|                1.0|             0|\n",
            "|         0.5|           0.0|                 0.0| 0.11764705882352941|                         0| 0.10609480812641084|             0|                         0.0|                                 0.0|              0.175|                   0.4|               0.0|               0.0|                1.0|             1|\n",
            "|         0.5|           0.0|                 0.0| 0.11764705882352941|                         0|  0.5778781038374717|             0|                         0.0|                                 0.0|0.21296296296296297|                   0.2|               0.0|0.3333333333333333|                1.0|             0|\n",
            "|        0.25|           0.0| 0.14285714285714285|                 0.0|                         0|                 0.0|             0|                         0.0|                                 0.0|0.17777777777777778|                   0.0|               0.0|               0.0|               0.75|             1|\n",
            "|         0.5|           0.0| 0.14285714285714285| 0.17647058823529413|                         0|0.002257336343115124|             0|                         0.0|                                 0.0|0.17777777777777778|                   0.2|               0.0|               1.0|                1.0|             1|\n",
            "|         0.5|           0.0|  0.2857142857142857| 0.11764705882352941|                         0|  0.2234762979683973|             0|                         0.0|                                 0.0|0.12037037037037036|                   0.0|               0.0|               0.0|                1.0|             0|\n",
            "|         0.5|           0.0| 0.14285714285714285|                 0.0|                         0| 0.02708803611738149|             0|                         0.0|                                 0.0|0.13333333333333333|                   0.0|               0.0|               0.0|               0.75|             1|\n",
            "+------------+--------------+--------------------+--------------------+--------------------------+--------------------+--------------+----------------------------+------------------------------------+-------------------+----------------------+------------------+------------------+-------------------+--------------+\n",
            "only showing top 20 rows\n",
            "\n"
          ]
        }
      ]
    },
    {
      "cell_type": "code",
      "source": [
        "# Đếm và hiển thị giá trị riêng biệt cho từng cột\n",
        "for col_name in nor_columns:\n",
        "    print(f'\\nGiá trị riêng biệt trong cột {col_name}:')\n",
        "    # Nhóm theo giá trị và đếm\n",
        "    distinct_counts = df.groupBy(col_name).count().orderBy(col_name)\n",
        "\n",
        "    # Hiển thị kết quả\n",
        "    distinct_counts.show()"
      ],
      "metadata": {
        "colab": {
          "base_uri": "https://localhost:8080/"
        },
        "id": "Mo1Kt-aQLSaO",
        "outputId": "77e7dae6-af6a-4f87-a94b-7f1aa3c01707"
      },
      "execution_count": null,
      "outputs": [
        {
          "output_type": "stream",
          "name": "stdout",
          "text": [
            "\n",
            "Giá trị riêng biệt trong cột no_of_adults:\n",
            "+------------+-----+\n",
            "|no_of_adults|count|\n",
            "+------------+-----+\n",
            "|         0.0|  139|\n",
            "|        0.25| 7695|\n",
            "|         0.5|26108|\n",
            "|        0.75| 2317|\n",
            "|         1.0|   16|\n",
            "+------------+-----+\n",
            "\n",
            "\n",
            "Giá trị riêng biệt trong cột no_of_children:\n",
            "+--------------+-----+\n",
            "|no_of_children|count|\n",
            "+--------------+-----+\n",
            "|           0.0|33577|\n",
            "|           0.1| 1618|\n",
            "|           0.2| 1058|\n",
            "|           0.3|   19|\n",
            "|           0.9|    2|\n",
            "|           1.0|    1|\n",
            "+--------------+-----+\n",
            "\n",
            "\n",
            "Giá trị riêng biệt trong cột no_of_weekend_nights:\n",
            "+--------------------+-----+\n",
            "|no_of_weekend_nights|count|\n",
            "+--------------------+-----+\n",
            "|                 0.0|16872|\n",
            "| 0.14285714285714285| 9995|\n",
            "|  0.2857142857142857| 9071|\n",
            "| 0.42857142857142855|  153|\n",
            "|  0.5714285714285714|  129|\n",
            "|  0.7142857142857143|   34|\n",
            "|  0.8571428571428571|   20|\n",
            "|                 1.0|    1|\n",
            "+--------------------+-----+\n",
            "\n",
            "\n",
            "Giá trị riêng biệt trong cột no_of_week_nights:\n",
            "+--------------------+-----+\n",
            "|   no_of_week_nights|count|\n",
            "+--------------------+-----+\n",
            "|                 0.0| 2387|\n",
            "|0.058823529411764705| 9488|\n",
            "| 0.11764705882352941|11444|\n",
            "| 0.17647058823529413| 7839|\n",
            "| 0.23529411764705882| 2990|\n",
            "| 0.29411764705882354| 1614|\n",
            "| 0.35294117647058826|  189|\n",
            "|  0.4117647058823529|  113|\n",
            "| 0.47058823529411764|   62|\n",
            "|  0.5294117647058824|   34|\n",
            "|  0.5882352941176471|   62|\n",
            "|  0.6470588235294118|   17|\n",
            "|  0.7058823529411765|    9|\n",
            "|  0.7647058823529411|    5|\n",
            "|  0.8235294117647058|    7|\n",
            "|  0.8823529411764706|   10|\n",
            "|  0.9411764705882353|    2|\n",
            "|                 1.0|    3|\n",
            "+--------------------+-----+\n",
            "\n",
            "\n",
            "Giá trị riêng biệt trong cột lead_time:\n",
            "+--------------------+-----+\n",
            "|           lead_time|count|\n",
            "+--------------------+-----+\n",
            "|                 0.0| 1297|\n",
            "|0.002257336343115124| 1078|\n",
            "|0.004514672686230248|  643|\n",
            "|0.006772009029345372|  630|\n",
            "|0.009029345372460496|  628|\n",
            "|0.011286681715575621|  577|\n",
            "|0.013544018058690745|  519|\n",
            "| 0.01580135440180587|  429|\n",
            "| 0.01805869074492099|  436|\n",
            "|0.020316027088036117|  332|\n",
            "|0.022573363431151242|  317|\n",
            "|0.024830699774266364|  371|\n",
            "| 0.02708803611738149|  412|\n",
            "|0.029345372460496615|  332|\n",
            "| 0.03160270880361174|  384|\n",
            "|0.033860045146726865|  298|\n",
            "| 0.03611738148984198|  255|\n",
            "| 0.03837471783295711|  288|\n",
            "|0.040632054176072234|  302|\n",
            "| 0.04288939051918736|  316|\n",
            "+--------------------+-----+\n",
            "only showing top 20 rows\n",
            "\n",
            "\n",
            "Giá trị riêng biệt trong cột no_of_previous_cancellations:\n",
            "+----------------------------+-----+\n",
            "|no_of_previous_cancellations|count|\n",
            "+----------------------------+-----+\n",
            "|                         0.0|35937|\n",
            "|         0.07692307692307693|  198|\n",
            "|         0.15384615384615385|   46|\n",
            "|         0.23076923076923078|   43|\n",
            "|          0.3076923076923077|   10|\n",
            "|         0.38461538461538464|   11|\n",
            "|         0.46153846153846156|    1|\n",
            "|          0.8461538461538461|   25|\n",
            "|                         1.0|    4|\n",
            "+----------------------------+-----+\n",
            "\n",
            "\n",
            "Giá trị riêng biệt trong cột no_of_previous_bookings_not_canceled:\n",
            "+------------------------------------+-----+\n",
            "|no_of_previous_bookings_not_canceled|count|\n",
            "+------------------------------------+-----+\n",
            "|                                 0.0|35463|\n",
            "|                0.017241379310344827|  228|\n",
            "|                0.034482758620689655|  112|\n",
            "|                 0.05172413793103448|   80|\n",
            "|                 0.06896551724137931|   65|\n",
            "|                 0.08620689655172414|   60|\n",
            "|                 0.10344827586206896|   36|\n",
            "|                  0.1206896551724138|   24|\n",
            "|                 0.13793103448275862|   23|\n",
            "|                 0.15517241379310345|   19|\n",
            "|                  0.1724137931034483|   19|\n",
            "|                  0.1896551724137931|   15|\n",
            "|                 0.20689655172413793|   12|\n",
            "|                 0.22413793103448276|    7|\n",
            "|                  0.2413793103448276|    9|\n",
            "|                 0.25862068965517243|    8|\n",
            "|                 0.27586206896551724|    7|\n",
            "|                 0.29310344827586204|    6|\n",
            "|                  0.3103448275862069|    6|\n",
            "|                  0.3275862068965517|    6|\n",
            "+------------------------------------+-----+\n",
            "only showing top 20 rows\n",
            "\n",
            "\n",
            "Giá trị riêng biệt trong cột avg_price_per_room:\n",
            "+--------------------+-----+\n",
            "|  avg_price_per_room|count|\n",
            "+--------------------+-----+\n",
            "|                 0.0|  545|\n",
            "| 9.25925925925926E-4|    1|\n",
            "|0.001851851851851852|    9|\n",
            "|0.002740740740740...|    1|\n",
            "|0.002962962962962...|    1|\n",
            "|0.003703703703703704|    6|\n",
            "|0.005555555555555556|    3|\n",
            "|0.008333333333333333|    1|\n",
            "|0.011111111111111112|   25|\n",
            "|0.012037037037037037|    1|\n",
            "|0.012351851851851852|    1|\n",
            "|0.016666666666666666|    4|\n",
            "|0.022222222222222223|   17|\n",
            "|0.025925925925925925|    1|\n",
            "|0.027777777777777776|    3|\n",
            "| 0.03333333333333333|    1|\n",
            "|0.034444444444444444|    1|\n",
            "| 0.03546296296296296|    4|\n",
            "|0.037037037037037035|    2|\n",
            "| 0.04259259259259259|    1|\n",
            "+--------------------+-----+\n",
            "only showing top 20 rows\n",
            "\n",
            "\n",
            "Giá trị riêng biệt trong cột no_of_special_requests:\n",
            "+----------------------+-----+\n",
            "|no_of_special_requests|count|\n",
            "+----------------------+-----+\n",
            "|                   0.0|19777|\n",
            "|                   0.2|11373|\n",
            "|                   0.4| 4364|\n",
            "|                   0.6|  675|\n",
            "|                   0.8|   78|\n",
            "|                   1.0|    8|\n",
            "+----------------------+-----+\n",
            "\n",
            "\n",
            "Giá trị riêng biệt trong cột room_type_reserved:\n",
            "+-------------------+-----+\n",
            "| room_type_reserved|count|\n",
            "+-------------------+-----+\n",
            "|                0.0|28130|\n",
            "|0.16666666666666666|  692|\n",
            "| 0.3333333333333333|    7|\n",
            "|                0.5| 6057|\n",
            "| 0.6666666666666666|  265|\n",
            "| 0.8333333333333334|  966|\n",
            "|                1.0|  158|\n",
            "+-------------------+-----+\n",
            "\n",
            "\n",
            "Giá trị riêng biệt trong cột type_of_meal_plan:\n",
            "+------------------+-----+\n",
            "| type_of_meal_plan|count|\n",
            "+------------------+-----+\n",
            "|               0.0|27835|\n",
            "|0.3333333333333333| 3305|\n",
            "|0.6666666666666666|    5|\n",
            "|               1.0| 5130|\n",
            "+------------------+-----+\n",
            "\n",
            "\n",
            "Giá trị riêng biệt trong cột market_segment_type:\n",
            "+-------------------+-----+\n",
            "|market_segment_type|count|\n",
            "+-------------------+-----+\n",
            "|                0.0|  125|\n",
            "|               0.25|  391|\n",
            "|                0.5| 2017|\n",
            "|               0.75|10528|\n",
            "|                1.0|23214|\n",
            "+-------------------+-----+\n",
            "\n"
          ]
        }
      ]
    },
    {
      "cell_type": "code",
      "source": [
        "df.toPandas().to_csv('Hotel_KNN.csv', index=0)"
      ],
      "metadata": {
        "id": "1P9EjrQxLd6n"
      },
      "execution_count": null,
      "outputs": []
    }
  ]
}